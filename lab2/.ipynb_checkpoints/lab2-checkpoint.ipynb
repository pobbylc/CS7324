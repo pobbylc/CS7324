{
 "cells": [
  {
   "cell_type": "markdown",
   "metadata": {},
   "source": [
    "# Lab Two: Exploring Image Data\n",
    "## Team members: Junhao Shen"
   ]
  },
  {
   "cell_type": "code",
   "execution_count": null,
   "metadata": {},
   "outputs": [],
   "source": [
    "import pandas as pd\n",
    "import numpy as np\n",
    "\n",
    "team = pd.DataFrame()\n",
    "team['name'] = ['Junaho Shen', 'Qinan Wang','Yuchong Chen']\n",
    "team['ID'] = ['48058365','48098262','48029817']\n",
    "team['email'] = ['junhaos@smu.edu','qinanw@smu.edu','yuchongc@smu.edu']\n",
    "team"
   ]
  }
 ],
 "metadata": {
  "kernelspec": {
   "display_name": "Python 3",
   "language": "python",
   "name": "python3"
  },
  "language_info": {
   "codemirror_mode": {
    "name": "ipython",
    "version": 3
   },
   "file_extension": ".py",
   "mimetype": "text/x-python",
   "name": "python",
   "nbconvert_exporter": "python",
   "pygments_lexer": "ipython3",
   "version": "3.7.4"
  },
  "name": "lab2",
  "notebookId": 836206594414494
 },
 "nbformat": 4,
 "nbformat_minor": 1
}
